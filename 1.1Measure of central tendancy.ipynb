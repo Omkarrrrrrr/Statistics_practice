{
 "cells": [
  {
   "cell_type": "markdown",
   "id": "6793be05-516d-476c-bf6c-995e38debcdf",
   "metadata": {},
   "source": [
    "## MEAN"
   ]
  },
  {
   "cell_type": "code",
   "execution_count": 1,
   "id": "17bceeb7-5041-4657-9fba-808c283cb26e",
   "metadata": {},
   "outputs": [],
   "source": [
    "age = [12,13,14,12,24]"
   ]
  },
  {
   "cell_type": "code",
   "execution_count": 2,
   "id": "39a5d079-34d8-46ff-a0d3-bdea93279fe2",
   "metadata": {},
   "outputs": [
    {
     "data": {
      "text/plain": [
       "15.0"
      ]
     },
     "execution_count": 2,
     "metadata": {},
     "output_type": "execute_result"
    }
   ],
   "source": [
    "(12+13+14+12+24)/5"
   ]
  },
  {
   "cell_type": "code",
   "execution_count": 4,
   "id": "9d646fd1-d029-4305-af70-35d0bed9744a",
   "metadata": {},
   "outputs": [
    {
     "data": {
      "text/plain": [
       "15.0"
      ]
     },
     "execution_count": 4,
     "metadata": {},
     "output_type": "execute_result"
    }
   ],
   "source": [
    "import numpy as np\n",
    "np.mean(age)"
   ]
  },
  {
   "cell_type": "code",
   "execution_count": 5,
   "id": "e547aae5-a1ed-4801-9ac3-78795b89beb1",
   "metadata": {},
   "outputs": [
    {
     "data": {
      "text/plain": [
       "61.333333333333336"
      ]
     },
     "execution_count": 5,
     "metadata": {},
     "output_type": "execute_result"
    }
   ],
   "source": [
    "weights = [45,34,55,76,45,35,89,98,75]\n",
    "np.mean(weights)"
   ]
  },
  {
   "cell_type": "code",
   "execution_count": 6,
   "id": "a6edb6dc-04f7-4dcd-a1a8-4be57823f3e6",
   "metadata": {},
   "outputs": [
    {
     "data": {
      "text/plain": [
       "155.2"
      ]
     },
     "execution_count": 6,
     "metadata": {},
     "output_type": "execute_result"
    }
   ],
   "source": [
    "weights = [45,34,55,76,45,35,89,98,75,1000]\n",
    "np.mean(weights)"
   ]
  },
  {
   "cell_type": "code",
   "execution_count": 7,
   "id": "d7cd258b-8c2a-45ed-8d28-ce097b569eab",
   "metadata": {},
   "outputs": [],
   "source": [
    "# after adding outlier here is drastic change so ut will be better to find median"
   ]
  },
  {
   "cell_type": "markdown",
   "id": "e27fe6cc-f19b-4b05-b6e4-15268d0b1b3d",
   "metadata": {},
   "source": [
    "## MEDIAN"
   ]
  },
  {
   "cell_type": "code",
   "execution_count": 8,
   "id": "d35851d7-3f0b-4c00-94ae-5c749d879096",
   "metadata": {},
   "outputs": [
    {
     "data": {
      "text/plain": [
       "65.0"
      ]
     },
     "execution_count": 8,
     "metadata": {},
     "output_type": "execute_result"
    }
   ],
   "source": [
    "np.median(weights)"
   ]
  },
  {
   "cell_type": "code",
   "execution_count": 9,
   "id": "54a4044e-645e-4da4-bd75-637fe86322c4",
   "metadata": {},
   "outputs": [],
   "source": [
    "# for replacing missing value we wil use MODE"
   ]
  },
  {
   "cell_type": "markdown",
   "id": "d4b4cdf5-4112-4824-bbe3-936ee40493fa",
   "metadata": {},
   "source": [
    "## MODE"
   ]
  },
  {
   "cell_type": "code",
   "execution_count": 11,
   "id": "0f8bd47c-2d50-4882-b9cd-5685998dc7ec",
   "metadata": {},
   "outputs": [],
   "source": [
    "from scipy import stats"
   ]
  },
  {
   "cell_type": "code",
   "execution_count": 12,
   "id": "0912cb29-be23-4d2b-99f4-0707da23ec2a",
   "metadata": {},
   "outputs": [
    {
     "name": "stderr",
     "output_type": "stream",
     "text": [
      "/tmp/ipykernel_103/4197893964.py:1: FutureWarning: Unlike other reduction functions (e.g. `skew`, `kurtosis`), the default behavior of `mode` typically preserves the axis it acts along. In SciPy 1.11.0, this behavior will change: the default value of `keepdims` will become False, the `axis` over which the statistic is taken will be eliminated, and the value None will no longer be accepted. Set `keepdims` to True or False to avoid this warning.\n",
      "  stats.mode(weights)\n"
     ]
    },
    {
     "data": {
      "text/plain": [
       "ModeResult(mode=array([45]), count=array([2]))"
      ]
     },
     "execution_count": 12,
     "metadata": {},
     "output_type": "execute_result"
    }
   ],
   "source": [
    "stats.mode(weights)"
   ]
  },
  {
   "cell_type": "code",
   "execution_count": null,
   "id": "52a15a25-010a-48ff-90f3-e99f9750b9ed",
   "metadata": {},
   "outputs": [],
   "source": []
  }
 ],
 "metadata": {
  "kernelspec": {
   "display_name": "Python 3 (ipykernel)",
   "language": "python",
   "name": "python3"
  },
  "language_info": {
   "codemirror_mode": {
    "name": "ipython",
    "version": 3
   },
   "file_extension": ".py",
   "mimetype": "text/x-python",
   "name": "python",
   "nbconvert_exporter": "python",
   "pygments_lexer": "ipython3",
   "version": "3.10.8"
  }
 },
 "nbformat": 4,
 "nbformat_minor": 5
}
