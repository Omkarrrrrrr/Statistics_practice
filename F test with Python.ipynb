{
 "cells": [
  {
   "cell_type": "markdown",
   "id": "97eb6c3f-abd5-4ef3-8f4f-cd0a0267e2eb",
   "metadata": {},
   "source": [
    "F Test With Python"
   ]
  },
  {
   "cell_type": "code",
   "execution_count": 1,
   "id": "4a109aab-5abd-4942-88de-dae0a196e44f",
   "metadata": {},
   "outputs": [],
   "source": [
    "#Evidence to say that the two population variances are not equal.\n",
    "## Check we come to  conclusion whether one worker is better than the other\n",
    "\n",
    "worker1= [18, 19, 22, 25, 27, 28, 41, 45, 51, 55]\n",
    "worker2= [14, 15, 15, 17, 18, 22, 25, 25, 27, 34]"
   ]
  },
  {
   "cell_type": "code",
   "execution_count": 2,
   "id": "902216ca-92a0-4d52-9334-c7e9504cfaf1",
   "metadata": {},
   "outputs": [],
   "source": [
    "## Calculate the F test statistics\n",
    "import numpy as np\n",
    "f_test=np.var(worker1)/np.var(worker2)"
   ]
  },
  {
   "cell_type": "code",
   "execution_count": 3,
   "id": "5a51ef74-6865-418d-ab27-c297930dbf69",
   "metadata": {},
   "outputs": [
    {
     "data": {
      "text/plain": [
       "4.387122002085506"
      ]
     },
     "execution_count": 3,
     "metadata": {},
     "output_type": "execute_result"
    }
   ],
   "source": [
    "f_test"
   ]
  },
  {
   "cell_type": "code",
   "execution_count": 4,
   "id": "830f3aaf-2f0c-4404-873a-6229162eed55",
   "metadata": {},
   "outputs": [],
   "source": [
    "## Degree of freedom\n",
    "df1=len(worker1)-1\n",
    "df2=len(worker2)-1\n",
    "significane_value=0.05"
   ]
  },
  {
   "cell_type": "code",
   "execution_count": 5,
   "id": "f5d2181d-6c42-44b0-a176-434a8e13316e",
   "metadata": {},
   "outputs": [],
   "source": [
    "import scipy.stats as stat"
   ]
  },
  {
   "cell_type": "code",
   "execution_count": 6,
   "id": "bfd42035-dc26-4c19-9ff1-ded9109f47ea",
   "metadata": {},
   "outputs": [],
   "source": [
    "critical_value=stat.f.ppf(q=1-significane_value,dfn=df1,dfd=df2)"
   ]
  },
  {
   "cell_type": "code",
   "execution_count": 7,
   "id": "6ec91bd7-1296-4214-9c7d-7aefe148e356",
   "metadata": {},
   "outputs": [
    {
     "name": "stdout",
     "output_type": "stream",
     "text": [
      "Reject the Null Hypothesis\n"
     ]
    }
   ],
   "source": [
    "if f_test>critical_value:\n",
    "    print(\"Reject the Null Hypothesis\")\n",
    "else:\n",
    "    print(\"We fail to reject the null hypothesis\")"
   ]
  },
  {
   "cell_type": "code",
   "execution_count": null,
   "id": "029fcb5c-7232-459e-8747-0605591c6c57",
   "metadata": {},
   "outputs": [],
   "source": []
  }
 ],
 "metadata": {
  "kernelspec": {
   "display_name": "Python 3 (ipykernel)",
   "language": "python",
   "name": "python3"
  },
  "language_info": {
   "codemirror_mode": {
    "name": "ipython",
    "version": 3
   },
   "file_extension": ".py",
   "mimetype": "text/x-python",
   "name": "python",
   "nbconvert_exporter": "python",
   "pygments_lexer": "ipython3",
   "version": "3.10.8"
  }
 },
 "nbformat": 4,
 "nbformat_minor": 5
}
